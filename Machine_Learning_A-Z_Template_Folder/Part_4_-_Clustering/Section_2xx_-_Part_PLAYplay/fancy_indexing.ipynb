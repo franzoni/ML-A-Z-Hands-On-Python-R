{
 "cells": [
  {
   "cell_type": "code",
   "execution_count": 13,
   "metadata": {},
   "outputs": [],
   "source": [
    "import numpy as np\n",
    "generator = np.random.RandomState(150777)"
   ]
  },
  {
   "cell_type": "code",
   "execution_count": 14,
   "metadata": {},
   "outputs": [
    {
     "data": {
      "text/plain": [
       "array([14, 59, 54, 88, 89, 12, 72,  4, 62, 22])"
      ]
     },
     "execution_count": 14,
     "metadata": {},
     "output_type": "execute_result"
    }
   ],
   "source": [
    "x = generator.randint(100,size=10)\n",
    "x"
   ]
  },
  {
   "cell_type": "code",
   "execution_count": 15,
   "metadata": {},
   "outputs": [
    {
     "data": {
      "text/plain": [
       "([88, 4, 54], list)"
      ]
     },
     "execution_count": 15,
     "metadata": {},
     "output_type": "execute_result"
    }
   ],
   "source": [
    "([x[3], x[7], x[2]]),type([x[3], x[7], x[2]])"
   ]
  },
  {
   "cell_type": "code",
   "execution_count": 16,
   "metadata": {},
   "outputs": [
    {
     "data": {
      "text/plain": [
       "(array([88,  4, 54]), numpy.ndarray)"
      ]
     },
     "execution_count": 16,
     "metadata": {},
     "output_type": "execute_result"
    }
   ],
   "source": [
    "indices = [3,7,2]\n",
    "x[indices],type(x)"
   ]
  },
  {
   "cell_type": "markdown",
   "metadata": {},
   "source": [
    "### fancy indexing basics\n",
    "When using fancy indexing, the shape of the result reflects the shape of the index arrays rather than the shape of the array being indexed:"
   ]
  },
  {
   "cell_type": "code",
   "execution_count": 17,
   "metadata": {},
   "outputs": [],
   "source": [
    "indices_matrix = generator.randint?"
   ]
  },
  {
   "cell_type": "code",
   "execution_count": 25,
   "metadata": {},
   "outputs": [
    {
     "data": {
      "text/plain": [
       "array([[2, 4, 6],\n",
       "       [2, 1, 3],\n",
       "       [7, 9, 6],\n",
       "       [7, 0, 6]])"
      ]
     },
     "execution_count": 25,
     "metadata": {},
     "output_type": "execute_result"
    }
   ],
   "source": [
    "# https://docs.scipy.org/doc/numpy/reference/generated/numpy.reshape.html\n",
    "indices_matrix = generator.randint(0,10,size=12).reshape((4,3))\n",
    "indices_matrix"
   ]
  },
  {
   "cell_type": "code",
   "execution_count": 23,
   "metadata": {},
   "outputs": [
    {
     "data": {
      "text/plain": [
       "array([[54, 62, 72],\n",
       "       [14, 59, 88],\n",
       "       [89, 72, 72],\n",
       "       [14, 72, 59]])"
      ]
     },
     "execution_count": 23,
     "metadata": {},
     "output_type": "execute_result"
    }
   ],
   "source": [
    "x[indices_matrix]"
   ]
  },
  {
   "cell_type": "markdown",
   "metadata": {},
   "source": [
    "Fancy indexing also works in multiple dimensions. Consider the following array:\n"
   ]
  },
  {
   "cell_type": "code",
   "execution_count": 34,
   "metadata": {},
   "outputs": [
    {
     "data": {
      "text/plain": [
       "array([[ 0,  1,  2,  3],\n",
       "       [ 4,  5,  6,  7],\n",
       "       [ 8,  9, 10, 11]])"
      ]
     },
     "execution_count": 34,
     "metadata": {},
     "output_type": "execute_result"
    }
   ],
   "source": [
    "X = np.arange(12).reshape((3,4))\n",
    "X"
   ]
  },
  {
   "cell_type": "code",
   "execution_count": 36,
   "metadata": {},
   "outputs": [
    {
     "data": {
      "text/plain": [
       "array([ 2,  5, 11])"
      ]
     },
     "execution_count": 36,
     "metadata": {},
     "output_type": "execute_result"
    }
   ],
   "source": [
    "row = np.array([0,1,2])\n",
    "col = np.array([2,1,3])\n",
    "X[row,col]"
   ]
  },
  {
   "cell_type": "code",
   "execution_count": 42,
   "metadata": {},
   "outputs": [
    {
     "data": {
      "text/plain": [
       "array([[0],\n",
       "       [1],\n",
       "       [2]])"
      ]
     },
     "execution_count": 42,
     "metadata": {},
     "output_type": "execute_result"
    }
   ],
   "source": [
    "row[:,np.newaxis]"
   ]
  },
  {
   "cell_type": "code",
   "execution_count": 39,
   "metadata": {},
   "outputs": [
    {
     "data": {
      "text/plain": [
       "array([[2, 1, 3],\n",
       "       [3, 2, 4],\n",
       "       [4, 3, 5]])"
      ]
     },
     "execution_count": 39,
     "metadata": {},
     "output_type": "execute_result"
    }
   ],
   "source": [
    "# broadcasting\n",
    "row[:,np.newaxis]+col"
   ]
  },
  {
   "cell_type": "code",
   "execution_count": 41,
   "metadata": {},
   "outputs": [
    {
     "data": {
      "text/plain": [
       "array([[ 2,  1,  3],\n",
       "       [ 6,  5,  7],\n",
       "       [10,  9, 11]])"
      ]
     },
     "execution_count": 41,
     "metadata": {},
     "output_type": "execute_result"
    }
   ],
   "source": [
    "X[row[:,np.newaxis],col]"
   ]
  },
  {
   "cell_type": "code",
   "execution_count": 43,
   "metadata": {},
   "outputs": [
    {
     "data": {
      "text/plain": [
       "(3, 3)"
      ]
     },
     "execution_count": 43,
     "metadata": {},
     "output_type": "execute_result"
    }
   ],
   "source": [
    "(row[:,np.newaxis]+col).shape"
   ]
  },
  {
   "cell_type": "code",
   "execution_count": 52,
   "metadata": {},
   "outputs": [
    {
     "data": {
      "text/plain": [
       "array([[1., 0., 0.],\n",
       "       [0., 1., 0.],\n",
       "       [0., 0., 1.]])"
      ]
     },
     "execution_count": 52,
     "metadata": {},
     "output_type": "execute_result"
    }
   ],
   "source": [
    "np.identity((row[:,np.newaxis]+col).shape[0])"
   ]
  },
  {
   "cell_type": "code",
   "execution_count": 55,
   "metadata": {},
   "outputs": [
    {
     "data": {
      "text/plain": [
       "array([[0., 0., 0.],\n",
       "       [1., 1., 1.],\n",
       "       [2., 2., 2.]])"
      ]
     },
     "execution_count": 55,
     "metadata": {},
     "output_type": "execute_result"
    }
   ],
   "source": [
    "(row[:,np.newaxis])*np.ones((row[:,np.newaxis]+col).shape[0])"
   ]
  },
  {
   "cell_type": "code",
   "execution_count": 64,
   "metadata": {},
   "outputs": [
    {
     "data": {
      "text/plain": [
       "array([[1.],\n",
       "       [1.],\n",
       "       [1.]])"
      ]
     },
     "execution_count": 64,
     "metadata": {},
     "output_type": "execute_result"
    }
   ],
   "source": [
    "np.ones((row[:,np.newaxis]+col).shape[0])[:,np.newaxis]"
   ]
  },
  {
   "cell_type": "code",
   "execution_count": 65,
   "metadata": {},
   "outputs": [
    {
     "data": {
      "text/plain": [
       "array([[2., 1., 3.],\n",
       "       [2., 1., 3.],\n",
       "       [2., 1., 3.]])"
      ]
     },
     "execution_count": 65,
     "metadata": {},
     "output_type": "execute_result"
    }
   ],
   "source": [
    "col*np.ones((row[:,np.newaxis]+col).shape[0])[:,np.newaxis]"
   ]
  },
  {
   "cell_type": "code",
   "execution_count": 176,
   "metadata": {},
   "outputs": [],
   "source": [
    "def show_broadcasted_arrays(a,b):\n",
    "    make_broadcast = a+b\n",
    "    print(make_broadcast)\n",
    "    dim_0 = make_broadcast.shape[0]\n",
    "    dim_1 = make_broadcast.shape[1]\n",
    "\n",
    "    print('shape of broadcast is: %d %d\\n'%(dim_0,dim_1))\n",
    "    \n",
    "    print(a)\n",
    "    print(a*np.ones(dim_0)[:,np.newaxis])\n",
    "    #print (np.ones(a.shape[0])[:,np.newaxis]  )\n",
    "    #print (np.ones(a.shape[0])[:,np.newaxis]*a  )\n",
    "    #print ((a[:,np.newaxis]) * np.ones((a[np.newaxis,:]+b).shape[0]) )\n",
    "    print()\n",
    "    print(b)\n",
    "    print(np.ones(dim_1)[np.newaxis,:]*b)\n",
    "    print()\n",
    "    #print (b*np.ones((a[:,np.newaxis]+b).shape[0])[:,np.newaxis])\n",
    "    #print (b*np.ones(b.shape[0])[np.newaxis,:]   ) \n",
    "    \n",
    "    print(make_broadcast)\n",
    "    return 0"
   ]
  },
  {
   "cell_type": "code",
   "execution_count": 179,
   "metadata": {},
   "outputs": [
    {
     "name": "stdout",
     "output_type": "stream",
     "text": [
      "[[101 102]\n",
      " [100 101]\n",
      " [102 103]]\n",
      "shape of broadcast is: 3 2\n",
      "\n",
      "[ 99 100]\n",
      "[[ 99. 100.]\n",
      " [ 99. 100.]\n",
      " [ 99. 100.]]\n",
      "\n",
      "[[2]\n",
      " [1]\n",
      " [3]]\n",
      "[[2. 2.]\n",
      " [1. 1.]\n",
      " [3. 3.]]\n",
      "\n",
      "[[101 102]\n",
      " [100 101]\n",
      " [102 103]]\n"
     ]
    },
    {
     "data": {
      "text/plain": [
       "0"
      ]
     },
     "execution_count": 179,
     "metadata": {},
     "output_type": "execute_result"
    }
   ],
   "source": [
    "# ok\n",
    "a = np.array([99,100])\n",
    "b = col[:,np.newaxis]\n",
    "\n",
    "#a = 1\n",
    "#b = np.arange(3)\n",
    "\n",
    "show_broadcasted_arrays(a,b)"
   ]
  },
  {
   "cell_type": "code",
   "execution_count": 226,
   "metadata": {},
   "outputs": [],
   "source": [
    "#x = np.array([[1], [2], [3]])\n",
    "#y = np.array([4, 5, 6])\n",
    "\n",
    "# x = 1\n",
    "# y = np.arange(3)\n",
    "\n",
    "# y = np.arange(15).reshape(5,3)\n",
    "# x = np.arange(3)\n",
    "\n",
    "# x = np.arange(5)\n",
    "# y = np.arange(5)[:,np.newaxis]\n",
    "\n",
    "y = np.arange(10).reshape(5,2)\n",
    "x = np.arange(5)[:,np.newaxis]"
   ]
  },
  {
   "cell_type": "code",
   "execution_count": 232,
   "metadata": {},
   "outputs": [
    {
     "name": "stdout",
     "output_type": "stream",
     "text": [
      "\n",
      "\n",
      "[[0]\n",
      " [1]\n",
      " [2]\n",
      " [3]\n",
      " [4]]\n",
      "\n",
      " gets broadcast to:\n",
      "\n",
      "[[0. 0.]\n",
      " [1. 1.]\n",
      " [2. 2.]\n",
      " [3. 3.]\n",
      " [4. 4.]]\n",
      "\n",
      "\n",
      "\n",
      "[[0 1]\n",
      " [2 3]\n",
      " [4 5]\n",
      " [6 7]\n",
      " [8 9]]\n",
      "\n",
      " gets broadcast to:\n",
      "\n",
      "[[0. 1.]\n",
      " [2. 3.]\n",
      " [4. 5.]\n",
      " [6. 7.]\n",
      " [8. 9.]]\n",
      "\n"
     ]
    }
   ],
   "source": [
    "def show_broadcasted_arrays(x,y):\n",
    "    b = np.broadcast(y,x)\n",
    "    out = np.ones(b.shape)\n",
    "    \n",
    "    print('\\n\\n%s\\n\\n gets broadcast to:\\n'%x)\n",
    "    print(x*out)\n",
    "    print()\n",
    "    print('\\n\\n%s\\n\\n gets broadcast to:\\n'%y)\n",
    "    print(y*out)\n",
    "    print()\n",
    "\n",
    "show_broadcasted_arrays(x,y)"
   ]
  },
  {
   "cell_type": "code",
   "execution_count": null,
   "metadata": {},
   "outputs": [],
   "source": []
  },
  {
   "cell_type": "code",
   "execution_count": null,
   "metadata": {},
   "outputs": [],
   "source": []
  }
 ],
 "metadata": {
  "kernelspec": {
   "display_name": "Python 3",
   "language": "python",
   "name": "python3"
  },
  "language_info": {
   "codemirror_mode": {
    "name": "ipython",
    "version": 3
   },
   "file_extension": ".py",
   "mimetype": "text/x-python",
   "name": "python",
   "nbconvert_exporter": "python",
   "pygments_lexer": "ipython3",
   "version": "3.7.6"
  }
 },
 "nbformat": 4,
 "nbformat_minor": 4
}
