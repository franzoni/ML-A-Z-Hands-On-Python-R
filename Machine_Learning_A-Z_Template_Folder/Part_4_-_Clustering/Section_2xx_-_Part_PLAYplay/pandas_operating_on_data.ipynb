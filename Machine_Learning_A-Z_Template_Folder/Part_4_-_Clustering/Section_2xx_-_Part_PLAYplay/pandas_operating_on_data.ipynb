{
 "cells": [
  {
   "cell_type": "markdown",
   "metadata": {},
   "source": [
    "Pandas inherits much of this functionality from NumPy\n",
    "\n",
    "- for **unary operations** like negation and trigonometric functions:\n",
    "    - these ufuncs will preserve index and column labels in the output\n",
    "\n",
    "- for **binary operations** such as addition and multiplication\n",
    "    - Pandas will automatically align indices when passing the objects to the ufunc."
   ]
  },
  {
   "cell_type": "code",
   "execution_count": null,
   "metadata": {},
   "outputs": [],
   "source": []
  }
 ],
 "metadata": {
  "kernelspec": {
   "display_name": "Python 3",
   "language": "python",
   "name": "python3"
  },
  "language_info": {
   "codemirror_mode": {
    "name": "ipython",
    "version": 3
   },
   "file_extension": ".py",
   "mimetype": "text/x-python",
   "name": "python",
   "nbconvert_exporter": "python",
   "pygments_lexer": "ipython3",
   "version": "3.7.6"
  }
 },
 "nbformat": 4,
 "nbformat_minor": 4
}
