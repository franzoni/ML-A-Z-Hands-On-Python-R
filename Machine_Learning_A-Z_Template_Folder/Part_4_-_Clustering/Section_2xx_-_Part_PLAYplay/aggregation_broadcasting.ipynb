{
 "cells": [
  {
   "cell_type": "markdown",
   "metadata": {},
   "source": [
    "# Aggregations: Min, Max, and Everything In Between"
   ]
  },
  {
   "cell_type": "code",
   "execution_count": null,
   "metadata": {},
   "outputs": [],
   "source": [
    "import numpy as np"
   ]
  },
  {
   "cell_type": "code",
   "execution_count": null,
   "metadata": {},
   "outputs": [],
   "source": [
    "L = np.random.random(100)"
   ]
  },
  {
   "cell_type": "code",
   "execution_count": null,
   "metadata": {},
   "outputs": [],
   "source": [
    "sum(L) - np.sum(L)"
   ]
  },
  {
   "cell_type": "raw",
   "metadata": {},
   "source": [
    "## Summing the Values in an Array\n",
    "NumPy's version of the operation is computed much more quickly:"
   ]
  },
  {
   "cell_type": "code",
   "execution_count": null,
   "metadata": {},
   "outputs": [],
   "source": [
    "L = np.random.random(100000)\n",
    "\n",
    "%timeit sum(L)\n",
    "%timeit np.sum(L) "
   ]
  },
  {
   "cell_type": "code",
   "execution_count": null,
   "metadata": {},
   "outputs": [],
   "source": [
    "%timeit min(L)\n",
    "%timeit np.min(L)"
   ]
  },
  {
   "cell_type": "markdown",
   "metadata": {},
   "source": [
    "## Multi dimensional aggregates¶\n",
    "One common type of aggregation operation is an aggregate along a row or column"
   ]
  },
  {
   "cell_type": "code",
   "execution_count": null,
   "metadata": {},
   "outputs": [],
   "source": [
    "M = np.random.random((3,4))\n",
    "M"
   ]
  },
  {
   "cell_type": "markdown",
   "metadata": {},
   "source": [
    "for a bi-dimensional array returns the aggregate over the entire array --> max min"
   ]
  },
  {
   "cell_type": "code",
   "execution_count": null,
   "metadata": {},
   "outputs": [],
   "source": [
    "M.max(), '  ', M.sum(), '  ', np.add.reduce(M),'  ', np.add.reduce(M,axis=1)"
   ]
  },
  {
   "cell_type": "markdown",
   "metadata": {},
   "source": [
    "#### REMINDER of computations and aggregates (previous notebook)\n",
    "- How can I reproduce the .sum() of multi-dimensional, aggregating add ?\n",
    "- add.accumulate(axix=0) adds elements along vertical axis returning **partial** sums\n",
    "- add.reduce(axix=0) adds elements along vertical axis returning the **final** sums"
   ]
  },
  {
   "cell_type": "code",
   "execution_count": null,
   "metadata": {},
   "outputs": [],
   "source": [
    "M.sum(),'  ', np.add.accumulate(M),  '  ', np.add.reduce(M),  '  ', np.add.reduce(M,axis=1)"
   ]
  },
  {
   "cell_type": "markdown",
   "metadata": {},
   "source": [
    "- you can reproduce the .sum() by reducing twice, along the two axes"
   ]
  },
  {
   "cell_type": "code",
   "execution_count": null,
   "metadata": {},
   "outputs": [],
   "source": [
    "%timeit M.sum()\n",
    "%timeit np.add.reduce(np.add.reduce(M))"
   ]
  },
  {
   "cell_type": "markdown",
   "metadata": {},
   "source": [
    "Aggregation functions take an additional argument specifying the axis along which the aggregate is computed. "
   ]
  },
  {
   "cell_type": "code",
   "execution_count": null,
   "metadata": {
    "scrolled": true
   },
   "outputs": [],
   "source": [
    "M.sum(axis=0), 'which is the same as', np.add.reduce(M)"
   ]
  },
  {
   "cell_type": "markdown",
   "metadata": {},
   "source": [
    "### Other aggregation functions"
   ]
  },
  {
   "cell_type": "code",
   "execution_count": null,
   "metadata": {},
   "outputs": [],
   "source": [
    "M.prod(), '   ', M.prod(axis=1)"
   ]
  },
  {
   "cell_type": "code",
   "execution_count": null,
   "metadata": {},
   "outputs": [],
   "source": [
    "M.std()"
   ]
  },
  {
   "cell_type": "code",
   "execution_count": null,
   "metadata": {},
   "outputs": [],
   "source": [
    "M.argmin()"
   ]
  },
  {
   "cell_type": "markdown",
   "metadata": {},
   "source": [
    "## president height exercise"
   ]
  },
  {
   "cell_type": "code",
   "execution_count": null,
   "metadata": {},
   "outputs": [],
   "source": [
    "import pandas as pd"
   ]
  },
  {
   "cell_type": "code",
   "execution_count": null,
   "metadata": {},
   "outputs": [],
   "source": [
    "data = pd.read_csv('data/president_heights.csv')\n",
    "data.head(2)"
   ]
  },
  {
   "cell_type": "code",
   "execution_count": null,
   "metadata": {},
   "outputs": [],
   "source": [
    "# extract one column from dataframe into series\n",
    "heights_series = data['height(cm)']\n",
    "# extract one column from dataframe into ndarray\n",
    "heights = np.array(data['height(cm)'])\n",
    "\n",
    "print(type(heights_series),' ',type(heights))\n",
    "print()\n",
    "print(heights)"
   ]
  },
  {
   "cell_type": "code",
   "execution_count": null,
   "metadata": {
    "scrolled": true
   },
   "outputs": [],
   "source": [
    "print(\"Mean height:       \", heights.mean())\n",
    "print(\"Standard deviation:\", heights.std())\n",
    "print(\"Minimum height:    \", heights.min())\n",
    "print(\"Maximum height:    \", heights.max())"
   ]
  },
  {
   "cell_type": "markdown",
   "metadata": {},
   "source": [
    "# Selectors for ndarrays\n",
    "two versions of a given selection: with the explicit function and the symbolic"
   ]
  },
  {
   "cell_type": "code",
   "execution_count": null,
   "metadata": {},
   "outputs": [],
   "source": [
    "test = np.array([1,2,20,3,4,5,20,6,7,20])\n",
    "test==20"
   ]
  },
  {
   "cell_type": "code",
   "execution_count": null,
   "metadata": {},
   "outputs": [],
   "source": [
    "np.equal(test,20)"
   ]
  },
  {
   "cell_type": "code",
   "execution_count": null,
   "metadata": {},
   "outputs": [],
   "source": [
    "selection = test==20"
   ]
  },
  {
   "cell_type": "code",
   "execution_count": null,
   "metadata": {},
   "outputs": [],
   "source": [
    "np.argwhere(selection)"
   ]
  },
  {
   "cell_type": "markdown",
   "metadata": {},
   "source": [
    "# argmax when there's more than one instance of max element"
   ]
  },
  {
   "cell_type": "code",
   "execution_count": null,
   "metadata": {},
   "outputs": [],
   "source": [
    "# NOOO THIS IDEA OF REMOVING ELEMENTS GIVES WRONG INDICES\n",
    "def argmax_BAD(u):\n",
    "    tmp      = list()\n",
    "    print('initial array is: ',u)\n",
    "    \n",
    "    maxindex = u.argmax()\n",
    "    maxvalue = u[maxindex]\n",
    "    tmp.append(maxindex)\n",
    "    print('tmp is: ',tmp)\n",
    "    v   = np.delete(u,maxindex)\n",
    "    \n",
    "    print(v,'(purged) maxvalue was ',maxvalue,' at location: ',maxindex)\n",
    "\n",
    "    while maxvalue in v:\n",
    "        maxi = v.argmax()\n",
    "        maxv = v[maxi]\n",
    "        tmp.append(maxi)\n",
    "        print('tmp is: ',tmp)\n",
    "        v   = np.delete(v,maxi)\n",
    "        print(v,'(purged) maxvalue was ', maxv,' at location: ',maxi)\n",
    "        print(tmp)\n",
    "        \n",
    "    return tmp\n",
    "\n",
    "\n",
    "# prototype of decorator function\n",
    "def add_comments(func):\n",
    "    # https://realpython.com/primer-on-python-decorators/#decorating-functions-with-arguments\n",
    "    # if the function to be decorated has argument --> use the generic interface\n",
    "    def wrapper(*args, **kwargs):\n",
    "        print(\"Something is happening before the function is called.\\n\")\n",
    "        print('dec: initial array is: ',args[0])\n",
    "        func(*args, **kwargs,verb=True)\n",
    "        # https://realpython.com/primer-on-python-decorators/#returning-values-from-decorated-functions\n",
    "        print(\"Something is happening after the function is called.\\n\")\n",
    "        # when the decorated function has a return statement, REMEMBER TO RETURN IT in the decorated version, too\n",
    "        return func(*args, **kwargs)\n",
    "    return wrapper\n",
    "\n",
    "# @add_comments\n",
    "def argmax_multi_lean(u,verb=False):\n",
    "    \n",
    "    maxindex = u.argmax()\n",
    "    maxvalue = u.flatten('K')[maxindex]\n",
    "    # by flattening we can find all indices corresponding to the max value\n",
    "    toreturn = np.argwhere(u.flatten('K')==maxvalue)\n",
    "    # Find the indices of array elements that are non-zero, grouped by element\n",
    "    # argwhere: docs.scipy.org/doc/numpy/reference/generated/numpy.argwhere.html\n",
    "    \n",
    "    if verb:\n",
    "        print('\\n\\ninitial array is: ',u)\n",
    "        print('max found at position: ',maxindex)\n",
    "        print('flattened is: %s'%u.flatten('K'))\n",
    "        # also for multi-dimensional ndarrays, the argmax returned is consistent with flattening 'K'-style\n",
    "        print('maxvalue is %s at location %s'%(maxvalue,maxindex))\n",
    "        print('returning: %s\\n'%toreturn.flatten('K'))\n",
    "\n",
    "    return toreturn.flatten('K')\n",
    "\n",
    "argmax_multi = add_comments(argmax_multi_lean)"
   ]
  },
  {
   "cell_type": "code",
   "execution_count": null,
   "metadata": {},
   "outputs": [],
   "source": [
    "test = np.array([1,2,20,3,4,5,20,6,7,20])\n",
    "print('indices of max value are: ',argmax_multi(test))"
   ]
  },
  {
   "cell_type": "code",
   "execution_count": null,
   "metadata": {},
   "outputs": [],
   "source": [
    "mat = test.reshape(5,2)\n",
    "mat"
   ]
  },
  {
   "cell_type": "code",
   "execution_count": null,
   "metadata": {},
   "outputs": [],
   "source": [
    "print('the outcome is: ')\n",
    "print(argmax_multi_lean(mat))\n",
    "print('outcome printed')"
   ]
  },
  {
   "cell_type": "code",
   "execution_count": null,
   "metadata": {},
   "outputs": [],
   "source": [
    "print(\"Mean height:       \", heights.mean())\n",
    "print(\"Standard deviation:\", heights.std())\n",
    "print(\"Minimum height:    \", heights.min())\n",
    "print(\"Maximum height:    \", heights.max())\n",
    "print(\"Maximum heightS:    \", heights[argmax_multi_lean(heights)] )\n",
    "print(\"Maximum height president-id's:    \", argmax_multi_lean(heights))"
   ]
  },
  {
   "cell_type": "code",
   "execution_count": null,
   "metadata": {},
   "outputs": [],
   "source": [
    "print(\"25th percentile:   \", np.percentile(heights, 25))\n",
    "print(\"Median:            \", np.median(heights))\n",
    "print(\"75th percentile:   \", np.percentile(heights, 75))"
   ]
  },
  {
   "cell_type": "code",
   "execution_count": null,
   "metadata": {},
   "outputs": [],
   "source": [
    "%matplotlib inline\n",
    "import matplotlib.pyplot as plt\n",
    "import seaborn; seaborn.set()  # set plot style\n",
    "plt.hist(heights)\n",
    "plt.title('Height Distribution of US Presidents')\n",
    "plt.xlabel('height (cm)')\n",
    "plt.ylabel('number');"
   ]
  },
  {
   "cell_type": "code",
   "execution_count": null,
   "metadata": {},
   "outputs": [],
   "source": [
    "# https://towardsdatascience.com/top-3-pandas-functions-you-dont-know-about-probably-5ae9e1c964c8"
   ]
  },
  {
   "cell_type": "markdown",
   "metadata": {},
   "source": [
    "# Broadcasting"
   ]
  },
  {
   "cell_type": "code",
   "execution_count": null,
   "metadata": {},
   "outputs": [],
   "source": [
    "import numpy as np\n",
    "a = np.array([1,2,3])\n",
    "b = np.array([4,5,6])\n",
    "a+b"
   ]
  },
  {
   "cell_type": "code",
   "execution_count": null,
   "metadata": {},
   "outputs": [],
   "source": [
    "a+5"
   ]
  },
  {
   "cell_type": "markdown",
   "metadata": {},
   "source": [
    "broadcasting a 3x3 with a (1,3)"
   ]
  },
  {
   "cell_type": "code",
   "execution_count": null,
   "metadata": {},
   "outputs": [],
   "source": [
    "M=np.ones((3,3))\n",
    "M+a"
   ]
  },
  {
   "cell_type": "markdown",
   "metadata": {},
   "source": [
    "broadcasting a 3x3 wiht a (3,1) "
   ]
  },
  {
   "cell_type": "code",
   "execution_count": null,
   "metadata": {},
   "outputs": [],
   "source": [
    "c=a.reshape(3,1)\n",
    "c"
   ]
  },
  {
   "cell_type": "code",
   "execution_count": null,
   "metadata": {},
   "outputs": [],
   "source": [
    "M+c"
   ]
  },
  {
   "cell_type": "code",
   "execution_count": null,
   "metadata": {},
   "outputs": [],
   "source": [
    "d = np.arange(3)\n",
    "e = d[:,np.newaxis]\n",
    "e, '  ', d"
   ]
  },
  {
   "cell_type": "code",
   "execution_count": null,
   "metadata": {},
   "outputs": [],
   "source": [
    "e+d"
   ]
  },
  {
   "cell_type": "code",
   "execution_count": null,
   "metadata": {},
   "outputs": [],
   "source": [
    "(d+e) - (e+d)"
   ]
  },
  {
   "attachments": {
    "image.png": {
     "image/png": "[encoded data removed]"
    }
   },
   "cell_type": "markdown",
   "metadata": {},
   "source": [
    "## This is how broadcasting works\n",
    "![image.png](attachment:image.png)"
   ]
  },
  {
   "cell_type": "markdown",
   "metadata": {},
   "source": [
    "## Rules of Broadcasting\n",
    "Broadcasting in NumPy follows a strict set of rules to determine the interaction between the two arrays:\n",
    "\n",
    "-- Rule 1: If the two arrays differ in their number of dimensions, the shape of the one with fewer dimensions is padded with 1's on its leading (left) side.\n",
    "\n",
    "-- Rule 2: If the shape of the two arrays does not match in any dimension, the array with shape equal to 1 in that dimension is stretched to match the other shape.\n",
    "\n",
    "-- Rule 3: If in any dimension the sizes disagree and neither is equal to 1, an error is raised. "
   ]
  },
  {
   "cell_type": "code",
   "execution_count": null,
   "metadata": {},
   "outputs": [],
   "source": [
    "M = np.ones((2,3))\n",
    "a = np.ones(3)\n",
    "M+a"
   ]
  },
  {
   "cell_type": "markdown",
   "metadata": {},
   "source": [
    "# Broadcasting in Practice\n",
    "- centering an array"
   ]
  },
  {
   "cell_type": "code",
   "execution_count": null,
   "metadata": {},
   "outputs": [],
   "source": [
    "x = np.random.random((3,10))\n",
    "x"
   ]
  },
  {
   "cell_type": "code",
   "execution_count": null,
   "metadata": {},
   "outputs": [],
   "source": [
    "# we subract the average computed along the 0th axis\n",
    "\n",
    "#   - mean being computed \"along axis 0\", \n",
    "\n",
    "#     i.e. for any fixed valie of 1st coordhardinate, running over the 0st coordinate\n",
    "#   - in other words, set one axis, the RESULTS will be according to OTHER coordinate\n",
    "\n",
    "x.mean(0), ' shape of mean is:', x.mean(0).shape"
   ]
  },
  {
   "cell_type": "code",
   "execution_count": null,
   "metadata": {},
   "outputs": [],
   "source": [
    "# broadcastng which happems here:\n",
    "\n",
    "# - x.shape      --> (3,10)\n",
    "# - x.mean.shape --> (10,)\n",
    "\n",
    "# - x.mean is promoted to (1,10), per broadcasting 1st rule\n",
    "# - then x.mean is stretched to (3,10) per 2nd rule\n",
    "\n",
    "zero_average = x - x.mean(0)\n",
    "zero_average"
   ]
  },
  {
   "cell_type": "code",
   "execution_count": null,
   "metadata": {},
   "outputs": [],
   "source": [
    "# we check behaviour using the sum as aggregator\n",
    "# the shape of zero_average is (3,10)\n",
    "# we sum \"along axis 0\", which means, \n",
    "# for ten times we sum three elements\n",
    "# which will return ten times approx(0)\n",
    "zero_average.sum(axis=0)"
   ]
  },
  {
   "cell_type": "code",
   "execution_count": null,
   "metadata": {},
   "outputs": [],
   "source": [
    "# x and y have 50 steps from 0 to 5\n",
    "x = np.linspace(0, 5, 50)\n",
    "y = np.linspace(0, 5, 50)[:, np.newaxis]\n",
    "\n",
    "\n",
    "z = np.sin(x) ** 10 + np.cos(10 + y * x) * np.cos(x)\n",
    "\n",
    "print('x shape:', x.shape)\n",
    "print('y shape:',y.shape)\n",
    "print('z shape:',z.shape)\n",
    "\n",
    "%matplotlib inline\n",
    "import matplotlib.pyplot as plt\n",
    "plt.imshow(z, origin='lower', extent=[0, 5, 0, 5],\n",
    "           cmap='viridis')\n",
    "plt.colorbar();"
   ]
  },
  {
   "cell_type": "code",
   "execution_count": null,
   "metadata": {},
   "outputs": [],
   "source": []
  }
 ],
 "metadata": {
  "kernelspec": {
   "display_name": "Python 3",
   "language": "python",
   "name": "python3"
  },
  "language_info": {
   "codemirror_mode": {
    "name": "ipython",
    "version": 3
   },
   "file_extension": ".py",
   "mimetype": "text/x-python",
   "name": "python",
   "nbconvert_exporter": "python",
   "pygments_lexer": "ipython3",
   "version": "3.7.6"
  }
 },
 "nbformat": 4,
 "nbformat_minor": 4
}
