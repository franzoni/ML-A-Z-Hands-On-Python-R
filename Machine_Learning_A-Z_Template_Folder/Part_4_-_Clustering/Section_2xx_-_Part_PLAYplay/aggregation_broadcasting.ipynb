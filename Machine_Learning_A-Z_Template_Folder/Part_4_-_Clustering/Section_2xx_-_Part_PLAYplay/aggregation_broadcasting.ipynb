{
 "cells": [
  {
   "cell_type": "markdown",
   "metadata": {},
   "source": [
    "# Aggregations: Min, Max, and Everything In Between"
   ]
  },
  {
   "cell_type": "code",
   "execution_count": 1,
   "metadata": {},
   "outputs": [],
   "source": [
    "import numpy as np"
   ]
  },
  {
   "cell_type": "code",
   "execution_count": 2,
   "metadata": {},
   "outputs": [],
   "source": [
    "L = np.random.random(100)"
   ]
  },
  {
   "cell_type": "code",
   "execution_count": 3,
   "metadata": {},
   "outputs": [
    {
     "data": {
      "text/plain": [
       "7.105427357601002e-15"
      ]
     },
     "execution_count": 3,
     "metadata": {},
     "output_type": "execute_result"
    }
   ],
   "source": [
    "sum(L) - np.sum(L)"
   ]
  },
  {
   "cell_type": "raw",
   "metadata": {},
   "source": [
    "## Summing the Values in an Array\n",
    "NumPy's version of the operation is computed much more quickly:"
   ]
  },
  {
   "cell_type": "code",
   "execution_count": null,
   "metadata": {},
   "outputs": [],
   "source": [
    "L = np.random.random(100000)\n",
    "\n",
    "%timeit sum(L)\n",
    "%timeit np.sum(L) "
   ]
  },
  {
   "cell_type": "code",
   "execution_count": null,
   "metadata": {},
   "outputs": [],
   "source": [
    "%timeit min(L)\n",
    "%timeit np.min(L)"
   ]
  },
  {
   "cell_type": "markdown",
   "metadata": {},
   "source": [
    "## Multi dimensional aggregates¶\n",
    "One common type of aggregation operation is an aggregate along a row or column"
   ]
  },
  {
   "cell_type": "code",
   "execution_count": null,
   "metadata": {},
   "outputs": [],
   "source": [
    "M = np.random.random((3,4))\n",
    "M"
   ]
  },
  {
   "cell_type": "markdown",
   "metadata": {},
   "source": [
    "for a bi-dimensional array returns the aggregate over the entire array --> max min"
   ]
  },
  {
   "cell_type": "code",
   "execution_count": null,
   "metadata": {},
   "outputs": [],
   "source": [
    "M.max(), '  ', M.sum(), '  ', np.add.reduce(M),'  ', np.add.reduce(M,axis=1)"
   ]
  },
  {
   "cell_type": "markdown",
   "metadata": {},
   "source": [
    "#### REMINDER of computations and aggregates (previous notebook)\n",
    "- How can I reproduce the .sum() of multi-dimensional, aggregating add ?\n",
    "- add.accumulate(axix=0) adds elements along vertical axis returning **partial** sums\n",
    "- add.reduce(axix=0) adds elements along vertical axis returning the **final** sums"
   ]
  },
  {
   "cell_type": "code",
   "execution_count": null,
   "metadata": {},
   "outputs": [],
   "source": [
    "M.sum(),'  ', np.add.accumulate(M),  '  ', np.add.reduce(M),  '  ', np.add.reduce(M,axis=1)"
   ]
  },
  {
   "cell_type": "markdown",
   "metadata": {},
   "source": [
    "- you can reproduce the .sum() by reducing twice, along the two axes"
   ]
  },
  {
   "cell_type": "code",
   "execution_count": null,
   "metadata": {},
   "outputs": [],
   "source": [
    "%timeit M.sum()\n",
    "%timeit np.add.reduce(np.add.reduce(M))"
   ]
  },
  {
   "cell_type": "markdown",
   "metadata": {},
   "source": [
    "Aggregation functions take an additional argument specifying the axis along which the aggregate is computed. "
   ]
  },
  {
   "cell_type": "code",
   "execution_count": null,
   "metadata": {
    "scrolled": true
   },
   "outputs": [],
   "source": [
    "M.sum(axis=0), 'which is the same as', np.add.reduce(M)"
   ]
  },
  {
   "cell_type": "markdown",
   "metadata": {},
   "source": [
    "### Other aggregation functions"
   ]
  },
  {
   "cell_type": "code",
   "execution_count": null,
   "metadata": {},
   "outputs": [],
   "source": [
    "M.prod(), '   ', M.prod(axis=1)"
   ]
  },
  {
   "cell_type": "code",
   "execution_count": null,
   "metadata": {},
   "outputs": [],
   "source": [
    "M.std()"
   ]
  },
  {
   "cell_type": "code",
   "execution_count": null,
   "metadata": {},
   "outputs": [],
   "source": [
    "M.argmin()"
   ]
  },
  {
   "cell_type": "markdown",
   "metadata": {},
   "source": [
    "## president height exercise"
   ]
  },
  {
   "cell_type": "code",
   "execution_count": null,
   "metadata": {},
   "outputs": [],
   "source": [
    "import pandas as pd"
   ]
  },
  {
   "cell_type": "code",
   "execution_count": null,
   "metadata": {},
   "outputs": [],
   "source": [
    "data = pd.read_csv('data/president_heights.csv')\n",
    "data.head(2)"
   ]
  },
  {
   "cell_type": "code",
   "execution_count": null,
   "metadata": {},
   "outputs": [],
   "source": [
    "# extract one column from dataframe into series\n",
    "heights_series = data['height(cm)']\n",
    "# extract one column from dataframe into ndarray\n",
    "heights = np.array(data['height(cm)'])\n",
    "\n",
    "print(type(heights_series),' ',type(heights))\n",
    "print()\n",
    "print(heights)"
   ]
  },
  {
   "cell_type": "code",
   "execution_count": null,
   "metadata": {
    "scrolled": true
   },
   "outputs": [],
   "source": [
    "print(\"Mean height:       \", heights.mean())\n",
    "print(\"Standard deviation:\", heights.std())\n",
    "print(\"Minimum height:    \", heights.min())\n",
    "print(\"Maximum height:    \", heights.max())"
   ]
  },
  {
   "cell_type": "code",
   "execution_count": null,
   "metadata": {},
   "outputs": [],
   "source": []
  },
  {
   "cell_type": "raw",
   "metadata": {},
   "source": [
    "# NOOO THIS IDEA OF REMOVING ELEMENTS GIVES WRONG INDICES\n",
    "def argmax_BAD(u):\n",
    "    tmp      = list()\n",
    "    print('initial array is: ',u)\n",
    "    \n",
    "    maxindex = u.argmax()\n",
    "    maxvalue = u[maxindex]\n",
    "    tmp.append(maxindex)\n",
    "    print('tmp is: ',tmp)\n",
    "    v   = np.delete(u,maxindex)\n",
    "    \n",
    "    print(v,'(purged) maxvalue was ',maxvalue,' at location: ',maxindex)\n",
    "\n",
    "    while maxvalue in v:\n",
    "        maxi = v.argmax()\n",
    "        maxv = v[maxi]\n",
    "        tmp.append(maxi)\n",
    "        print('tmp is: ',tmp)\n",
    "        v   = np.delete(v,maxi)\n",
    "        print(v,'(purged) maxvalue was ', maxv,' at location: ',maxi)\n",
    "        print(tmp)\n",
    "        \n",
    "    return tmp\n",
    "\n",
    "\n",
    "def argmax_multi(u):\n",
    "    tmp      = np.array()\n",
    "    print('initial array is: ',u)\n",
    "    \n",
    "    maxindex = u.argmax()\n",
    "    maxvalue = u[maxindex]\n",
    "        \n",
    "    return tmp\n",
    "\n",
    "\n",
    "test = np.array([1,2,20,3,4,5,20,6,7,20])\n",
    "print('indices of max value are: ',argmax_multiple(test))\n",
    "#print('Tallest presidents:', heights.argmax() )"
   ]
  },
  {
   "cell_type": "code",
   "execution_count": null,
   "metadata": {},
   "outputs": [],
   "source": [
    "test = np.array([1,2,20,3,4,5,20,6,7,20])"
   ]
  },
  {
   "cell_type": "code",
   "execution_count": null,
   "metadata": {},
   "outputs": [],
   "source": [
    "test==20"
   ]
  },
  {
   "cell_type": "code",
   "execution_count": null,
   "metadata": {},
   "outputs": [],
   "source": [
    "np.equal(test,20)"
   ]
  },
  {
   "cell_type": "code",
   "execution_count": null,
   "metadata": {},
   "outputs": [],
   "source": [
    "selection = test==20"
   ]
  },
  {
   "cell_type": "code",
   "execution_count": null,
   "metadata": {},
   "outputs": [],
   "source": [
    "np.argwhere(selection)"
   ]
  },
  {
   "cell_type": "code",
   "execution_count": null,
   "metadata": {},
   "outputs": [],
   "source": [
    "R"
   ]
  }
 ],
 "metadata": {
  "kernelspec": {
   "display_name": "Python 3",
   "language": "python",
   "name": "python3"
  },
  "language_info": {
   "codemirror_mode": {
    "name": "ipython",
    "version": 3
   },
   "file_extension": ".py",
   "mimetype": "text/x-python",
   "name": "python",
   "nbconvert_exporter": "python",
   "pygments_lexer": "ipython3",
   "version": "3.7.6"
  }
 },
 "nbformat": 4,
 "nbformat_minor": 4
}
