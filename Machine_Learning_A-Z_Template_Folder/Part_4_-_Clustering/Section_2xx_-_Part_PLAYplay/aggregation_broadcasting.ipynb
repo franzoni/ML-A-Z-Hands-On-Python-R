{
 "cells": [
  {
   "cell_type": "markdown",
   "metadata": {},
   "source": [
    "# Aggregations: Min, Max, and Everything In Between"
   ]
  },
  {
   "cell_type": "code",
   "execution_count": 5,
   "metadata": {},
   "outputs": [],
   "source": [
    "import numpy as np"
   ]
  },
  {
   "cell_type": "code",
   "execution_count": 6,
   "metadata": {},
   "outputs": [],
   "source": [
    "L = np.random.random(100)"
   ]
  },
  {
   "cell_type": "code",
   "execution_count": 7,
   "metadata": {},
   "outputs": [
    {
     "data": {
      "text/plain": [
       "-1.4210854715202004e-14"
      ]
     },
     "execution_count": 7,
     "metadata": {},
     "output_type": "execute_result"
    }
   ],
   "source": [
    "sum(L) - np.sum(L)"
   ]
  },
  {
   "cell_type": "markdown",
   "metadata": {},
   "source": [
    "## Summing the Values in an Array\n",
    "NumPy's version of the operation is computed much more quickly:"
   ]
  },
  {
   "cell_type": "code",
   "execution_count": 8,
   "metadata": {},
   "outputs": [
    {
     "name": "stdout",
     "output_type": "stream",
     "text": [
      "25.4 ms ± 1.85 ms per loop (mean ± std. dev. of 7 runs, 10 loops each)\n",
      "47.7 µs ± 981 ns per loop (mean ± std. dev. of 7 runs, 10000 loops each)\n"
     ]
    }
   ],
   "source": [
    "L = np.random.random(100000)\n",
    "\n",
    "%timeit sum(L)\n",
    "%timeit np.sum(L) "
   ]
  },
  {
   "cell_type": "code",
   "execution_count": 9,
   "metadata": {},
   "outputs": [
    {
     "name": "stdout",
     "output_type": "stream",
     "text": [
      "11 ms ± 674 µs per loop (mean ± std. dev. of 7 runs, 100 loops each)\n",
      "46.7 µs ± 4.78 µs per loop (mean ± std. dev. of 7 runs, 10000 loops each)\n"
     ]
    }
   ],
   "source": [
    "%timeit min(L)\n",
    "%timeit np.min(L)"
   ]
  },
  {
   "cell_type": "markdown",
   "metadata": {},
   "source": [
    "## Multi dimensional aggregates¶\n",
    "One common type of aggregation operation is an aggregate along a row or column"
   ]
  },
  {
   "cell_type": "code",
   "execution_count": 10,
   "metadata": {},
   "outputs": [
    {
     "data": {
      "text/plain": [
       "array([[0.13304504, 0.21036821, 0.26653586, 0.41499393],\n",
       "       [0.41609543, 0.86414852, 0.67047399, 0.76684741],\n",
       "       [0.84513248, 0.89265261, 0.61153354, 0.1287356 ]])"
      ]
     },
     "execution_count": 10,
     "metadata": {},
     "output_type": "execute_result"
    }
   ],
   "source": [
    "M = np.random.random((3,4))\n",
    "M"
   ]
  },
  {
   "cell_type": "markdown",
   "metadata": {},
   "source": [
    "for a bi-dimensional array returns the aggregate over the entire array --> max min"
   ]
  },
  {
   "cell_type": "code",
   "execution_count": 11,
   "metadata": {},
   "outputs": [
    {
     "data": {
      "text/plain": [
       "(0.8926526104494674,\n",
       " '  ',\n",
       " 6.2205626294605985,\n",
       " '  ',\n",
       " array([1.39427295, 1.96716935, 1.54854339, 1.31057695]),\n",
       " '  ',\n",
       " array([1.02494304, 2.71756535, 2.47805424]))"
      ]
     },
     "execution_count": 11,
     "metadata": {},
     "output_type": "execute_result"
    }
   ],
   "source": [
    "M.max(), '  ', M.sum(), '  ', np.add.reduce(M),'  ', np.add.reduce(M,axis=1)"
   ]
  },
  {
   "cell_type": "markdown",
   "metadata": {},
   "source": [
    "#### REMINDER of computations and aggregates (previous notebook)\n",
    "- How can I reproduce the .sum() of multi-dimensional, aggregating add ?\n",
    "- add.accumulate(axix=0) adds elements along vertical axis returning **partial** sums\n",
    "- add.reduce(axix=0) adds elements along vertical axis returning the **final** sums"
   ]
  },
  {
   "cell_type": "code",
   "execution_count": 12,
   "metadata": {},
   "outputs": [
    {
     "data": {
      "text/plain": [
       "(6.2205626294605985,\n",
       " '  ',\n",
       " array([[0.13304504, 0.21036821, 0.26653586, 0.41499393],\n",
       "        [0.54914046, 1.07451674, 0.93700985, 1.18184134],\n",
       "        [1.39427295, 1.96716935, 1.54854339, 1.31057695]]),\n",
       " '  ',\n",
       " array([1.39427295, 1.96716935, 1.54854339, 1.31057695]),\n",
       " '  ',\n",
       " array([1.02494304, 2.71756535, 2.47805424]))"
      ]
     },
     "execution_count": 12,
     "metadata": {},
     "output_type": "execute_result"
    }
   ],
   "source": [
    "M.sum(),'  ', np.add.accumulate(M),  '  ', np.add.reduce(M),  '  ', np.add.reduce(M,axis=1)"
   ]
  },
  {
   "cell_type": "markdown",
   "metadata": {},
   "source": [
    "- you can reproduce the .sum() by reducing twice, along the two axes"
   ]
  },
  {
   "cell_type": "code",
   "execution_count": 13,
   "metadata": {},
   "outputs": [
    {
     "name": "stdout",
     "output_type": "stream",
     "text": [
      "3.99 µs ± 681 ns per loop (mean ± std. dev. of 7 runs, 100000 loops each)\n",
      "4.01 µs ± 73.5 ns per loop (mean ± std. dev. of 7 runs, 100000 loops each)\n"
     ]
    }
   ],
   "source": [
    "%timeit M.sum()\n",
    "%timeit np.add.reduce(np.add.reduce(M))"
   ]
  },
  {
   "cell_type": "markdown",
   "metadata": {},
   "source": [
    "Aggregation functions take an additional argument specifying the axis along which the aggregate is computed. "
   ]
  },
  {
   "cell_type": "code",
   "execution_count": 14,
   "metadata": {
    "scrolled": true
   },
   "outputs": [
    {
     "data": {
      "text/plain": [
       "(array([1.39427295, 1.96716935, 1.54854339, 1.31057695]),\n",
       " 'which is the same as',\n",
       " array([1.39427295, 1.96716935, 1.54854339, 1.31057695]))"
      ]
     },
     "execution_count": 14,
     "metadata": {},
     "output_type": "execute_result"
    }
   ],
   "source": [
    "M.sum(axis=0), 'which is the same as', np.add.reduce(M)"
   ]
  },
  {
   "cell_type": "markdown",
   "metadata": {},
   "source": [
    "### Other aggregation functions"
   ]
  },
  {
   "cell_type": "code",
   "execution_count": 15,
   "metadata": {},
   "outputs": [
    {
     "data": {
      "text/plain": [
       "(3.399183726687367e-05, '   ', array([0.00309582, 0.18487246, 0.05939176]))"
      ]
     },
     "execution_count": 15,
     "metadata": {},
     "output_type": "execute_result"
    }
   ],
   "source": [
    "M.prod(), '   ', M.prod(axis=1)"
   ]
  },
  {
   "cell_type": "code",
   "execution_count": 16,
   "metadata": {},
   "outputs": [
    {
     "data": {
      "text/plain": [
       "0.27983664876753495"
      ]
     },
     "execution_count": 16,
     "metadata": {},
     "output_type": "execute_result"
    }
   ],
   "source": [
    "M.std()"
   ]
  },
  {
   "cell_type": "code",
   "execution_count": 17,
   "metadata": {},
   "outputs": [
    {
     "data": {
      "text/plain": [
       "11"
      ]
     },
     "execution_count": 17,
     "metadata": {},
     "output_type": "execute_result"
    }
   ],
   "source": [
    "M.argmin()"
   ]
  },
  {
   "cell_type": "markdown",
   "metadata": {},
   "source": [
    "## president height exercise"
   ]
  },
  {
   "cell_type": "code",
   "execution_count": 18,
   "metadata": {},
   "outputs": [],
   "source": [
    "import pandas as pd"
   ]
  },
  {
   "cell_type": "code",
   "execution_count": 22,
   "metadata": {},
   "outputs": [
    {
     "data": {
      "text/plain": [
       "(pandas.core.series.Series, ' ', numpy.ndarray)"
      ]
     },
     "execution_count": 22,
     "metadata": {},
     "output_type": "execute_result"
    }
   ],
   "source": [
    "data = pd.read_csv('data/president_heights.csv')\n",
    "data.head(2)"
   ]
  },
  {
   "cell_type": "code",
   "execution_count": 25,
   "metadata": {},
   "outputs": [
    {
     "name": "stdout",
     "output_type": "stream",
     "text": [
      "<class 'pandas.core.series.Series'>   <class 'numpy.ndarray'>\n",
      "\n",
      "[189 170 189 163 183 171 185 168 173 183 173 173 175 178 183 193 178 173\n",
      " 174 183 183 168 170 178 182 180 183 178 182 188 175 179 183 193 182 183\n",
      " 177 185 188 188 182 185]\n"
     ]
    }
   ],
   "source": [
    "# extract one column from dataframe into series\n",
    "heights_series = data['height(cm)']\n",
    "# extract one column from dataframe into ndarray\n",
    "heights = np.array(data['height(cm)'])\n",
    "\n",
    "print(type(heights_series),' ',type(heights))\n",
    "print()\n",
    "print(heights)"
   ]
  },
  {
   "cell_type": "code",
   "execution_count": 47,
   "metadata": {
    "scrolled": true
   },
   "outputs": [
    {
     "name": "stdout",
     "output_type": "stream",
     "text": [
      "Mean height:        179.73809523809524\n",
      "Standard deviation: 6.931843442745892\n",
      "Minimum height:     163\n",
      "Maximum height:     193\n",
      "initial array is:  [ 1  2 20  3  4  5 20  6  7 20]\n",
      "tmp is:  [2]\n",
      "[ 1  2  3  4  5 20  6  7 20] (purged) maxvalue was  20  at location:  2\n",
      "tmp is:  [2, 5]\n",
      "[ 1  2  3  4  5  6  7 20] (purged) maxvalue was  20  at location:  5\n",
      "[2, 5]\n",
      "tmp is:  [2, 5, 7]\n",
      "[1 2 3 4 5 6 7] (purged) maxvalue was  20  at location:  7\n",
      "[2, 5, 7]\n",
      "indices of max value are:  [2, 5, 7]\n"
     ]
    }
   ],
   "source": [
    "print(\"Mean height:       \", heights.mean())\n",
    "print(\"Standard deviation:\", heights.std())\n",
    "print(\"Minimum height:    \", heights.min())\n",
    "print(\"Maximum height:    \", heights.max())\n",
    "\n",
    "# NOOO THIS IDEA OF REMOVING ELEMENTS GIVES WRONG INDICES\n",
    "def argmax_multiple(u):\n",
    "    tmp      = list()\n",
    "    print('initial array is: ',u)\n",
    "    \n",
    "    maxindex = u.argmax()\n",
    "    maxvalue = u[maxindex]\n",
    "    tmp.append(maxindex)\n",
    "    print('tmp is: ',tmp)\n",
    "    v   = np.delete(u,maxindex)\n",
    "    \n",
    "    print(v,'(purged) maxvalue was ',maxvalue,' at location: ',maxindex)\n",
    "\n",
    "    while maxvalue in v:\n",
    "        maxi = v.argmax()\n",
    "        maxv = v[maxi]\n",
    "        tmp.append(maxi)\n",
    "        print('tmp is: ',tmp)\n",
    "        v   = np.delete(v,maxi)\n",
    "        print(v,'(purged) maxvalue was ', maxv,' at location: ',maxi)\n",
    "        print(tmp)\n",
    "        \n",
    "    return tmp\n",
    "\n",
    "test = np.array([1,2,20,3,4,5,20,6,7,20])\n",
    "print('indices of max value are: ',argmax_multiple(test))\n",
    "#print('Tallest presidents:', heights.argmax() )"
   ]
  },
  {
   "cell_type": "code",
   "execution_count": 28,
   "metadata": {},
   "outputs": [],
   "source": [
    "np.argmax?"
   ]
  },
  {
   "cell_type": "code",
   "execution_count": null,
   "metadata": {},
   "outputs": [],
   "source": []
  }
 ],
 "metadata": {
  "kernelspec": {
   "display_name": "Python 3",
   "language": "python",
   "name": "python3"
  },
  "language_info": {
   "codemirror_mode": {
    "name": "ipython",
    "version": 3
   },
   "file_extension": ".py",
   "mimetype": "text/x-python",
   "name": "python",
   "nbconvert_exporter": "python",
   "pygments_lexer": "ipython3",
   "version": "3.7.6"
  }
 },
 "nbformat": 4,
 "nbformat_minor": 4
}
